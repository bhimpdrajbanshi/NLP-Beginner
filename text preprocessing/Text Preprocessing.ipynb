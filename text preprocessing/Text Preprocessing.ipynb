{
 "cells": [
  {
   "cell_type": "markdown",
   "id": "b2b89fce",
   "metadata": {},
   "source": [
    "# Text Preprocessing"
   ]
  },
  {
   "cell_type": "code",
   "execution_count": 5,
   "id": "5d1646fa",
   "metadata": {},
   "outputs": [],
   "source": [
    "# Step 1 : All convert into lower text\n",
    "# Step 2 : Remove html tags\n",
    "# Step 1 : Remove all link"
   ]
  },
  {
   "cell_type": "code",
   "execution_count": 4,
   "id": "161349e6",
   "metadata": {},
   "outputs": [],
   "source": [
    "# sample data\n",
    "text = \"Visit <b>our</b> website at https://example.com! It's amazing & FREE.\""
   ]
  },
  {
   "cell_type": "markdown",
   "id": "a0647a27",
   "metadata": {},
   "source": [
    "All convert into lower text"
   ]
  },
  {
   "cell_type": "code",
   "execution_count": 6,
   "id": "96f63e38",
   "metadata": {},
   "outputs": [],
   "source": [
    "def text_into_lower_case(text):\n",
    "    return text.lower()"
   ]
  },
  {
   "cell_type": "code",
   "execution_count": 7,
   "id": "dc0aadbc",
   "metadata": {},
   "outputs": [
    {
     "data": {
      "text/plain": [
       "\"visit <b>our</b> website at https://example.com! it's amazing & free.\""
      ]
     },
     "execution_count": 7,
     "metadata": {},
     "output_type": "execute_result"
    }
   ],
   "source": [
    "text_into_lower_case(text)"
   ]
  },
  {
   "cell_type": "markdown",
   "id": "fc6b6475",
   "metadata": {},
   "source": [
    "Remove html tags"
   ]
  },
  {
   "cell_type": "code",
   "execution_count": 8,
   "id": "dceb1b1c",
   "metadata": {},
   "outputs": [],
   "source": [
    "import re\n",
    "def remove_tags(text):\n",
    "    tags_pattern = re.compile('<.*?>')\n",
    "    return tags_pattern.sub(r'',text)"
   ]
  },
  {
   "cell_type": "code",
   "execution_count": 9,
   "id": "34eec654",
   "metadata": {},
   "outputs": [
    {
     "data": {
      "text/plain": [
       "\"Visit our website at https://example.com! It's amazing & FREE.\""
      ]
     },
     "execution_count": 9,
     "metadata": {},
     "output_type": "execute_result"
    }
   ],
   "source": [
    "remove_tags(text)"
   ]
  },
  {
   "cell_type": "code",
   "execution_count": null,
   "id": "e7a3cb9a",
   "metadata": {},
   "outputs": [],
   "source": []
  }
 ],
 "metadata": {
  "kernelspec": {
   "display_name": "Python 3 (ipykernel)",
   "language": "python",
   "name": "python3"
  },
  "language_info": {
   "codemirror_mode": {
    "name": "ipython",
    "version": 3
   },
   "file_extension": ".py",
   "mimetype": "text/x-python",
   "name": "python",
   "nbconvert_exporter": "python",
   "pygments_lexer": "ipython3",
   "version": "3.10.5"
  }
 },
 "nbformat": 4,
 "nbformat_minor": 5
}
